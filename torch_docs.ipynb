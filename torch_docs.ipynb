{
 "cells": [
  {
   "cell_type": "code",
   "execution_count": 1,
   "id": "efb59158-63af-45bd-84e8-2cece83591f9",
   "metadata": {},
   "outputs": [],
   "source": [
    "import torch"
   ]
  },
  {
   "cell_type": "code",
   "execution_count": 16,
   "id": "cd9d3fe7-fed8-43a4-86ea-263c20353d03",
   "metadata": {},
   "outputs": [
    {
     "name": "stdout",
     "output_type": "stream",
     "text": [
      "torch.Size([3]) tensor([1, 2, 3])\n",
      "tensor([[1, 2, 3]]) torch.Size([1, 3])\n",
      "tensor([[1, 2, 3]]) torch.Size([1, 3])\n",
      "tensor([1, 2, 3])\n"
     ]
    }
   ],
   "source": [
    "# shape shifting in pytorch\n",
    "# https://www.paepper.com/blog/posts/shapeshifting-pytorch/\n",
    "\n",
    "test = torch.tensor([1, 2, 3])\n",
    "print(test.shape, test)\n",
    "\n",
    "# need 2 dimensions?\n",
    "test_batch = test.unsqueeze(0)\n",
    "test_batch_equiv = test[None, :] # or [None]\n",
    "print(test_batch, test_batch.shape)\n",
    "print(test_batch_equiv, test_batch_equiv.shape)\n",
    "\n",
    "# need to reduce dimensionality back to just 1 item?\n",
    "print(test.unsqueeze(0).squeeze(0))\n",
    "\n",
    "# squeeze without an input parameter will remove all dimensions of size 1"
   ]
  },
  {
   "cell_type": "code",
   "execution_count": null,
   "id": "f828c22f-21ed-45de-a8ef-e1161d92a62c",
   "metadata": {},
   "outputs": [],
   "source": []
  }
 ],
 "metadata": {
  "kernelspec": {
   "display_name": ".venv",
   "language": "python",
   "name": ".venv"
  },
  "language_info": {
   "codemirror_mode": {
    "name": "ipython",
    "version": 3
   },
   "file_extension": ".py",
   "mimetype": "text/x-python",
   "name": "python",
   "nbconvert_exporter": "python",
   "pygments_lexer": "ipython3",
   "version": "3.11.6"
  }
 },
 "nbformat": 4,
 "nbformat_minor": 5
}

{
 "cells": [
  {
   "cell_type": "markdown",
   "id": "8b3049bd-a7dd-4471-a490-9a434bc53495",
   "metadata": {},
   "source": [
    "### Introduction to Information Theory\n",
    "Invented by Claude E. Shannon. https://people.math.harvard.edu/~ctm/home/text/others/shannon/entropy/entropy.pdf\n",
    "\n",
    "#### The Basic Idea of Shannon Entropy\n",
    "Entropy quantifies the average amount of information inherent in a possible set of outcomes of a random variable. A random variable is a function that assigns a numerical value to each possible outcome of a random experiment.\n",
    "\n",
    "$\n",
    "H(X) = -\\sum_x (p(x) \\cdot \\log_2{p(x)})\n",
    "$\n",
    "\n",
    "$\\log_2$ is usually chosen to for representing information in binary notation. This formula is used to determine the amount of information needed to represent the outcome of a random experiment. In this case, the amount is quantified using bits (because $\\log_2$) so the output would be the number of bits needed to represent the output.\n",
    "\n",
    "#### An Example\n",
    "Given a fair coin with the probability of heads being $p = 0.5$ and the probability of tails being $p = 0.5$, you can calculate how many bits are needed to represent the outcome of running the random experiemnt of flipping the coin once.\n",
    "\n",
    "$\n",
    "h = -(0.5 \\cdot \\log_2{0.5} + 0.5 \\cdot \\log_2{0.5}) = -(0.5 \\cdot (-1) + 0.5 \\cdot (-1)) = 1 bit\n",
    "$"
   ]
  },
  {
   "cell_type": "code",
   "execution_count": null,
   "id": "b7e73c19-6378-444a-8bfe-e5363d22bc8b",
   "metadata": {},
   "outputs": [],
   "source": []
  }
 ],
 "metadata": {
  "kernelspec": {
   "display_name": "notebook_venv",
   "language": "python",
   "name": "notebook_venv"
  },
  "language_info": {
   "codemirror_mode": {
    "name": "ipython",
    "version": 3
   },
   "file_extension": ".py",
   "mimetype": "text/x-python",
   "name": "python",
   "nbconvert_exporter": "python",
   "pygments_lexer": "ipython3",
   "version": "3.13.4"
  }
 },
 "nbformat": 4,
 "nbformat_minor": 5
}
